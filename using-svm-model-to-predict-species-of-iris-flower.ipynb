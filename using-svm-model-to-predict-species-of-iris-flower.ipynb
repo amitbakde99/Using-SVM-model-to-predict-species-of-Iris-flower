{
 "cells": [
  {
   "cell_type": "code",
   "execution_count": 1,
   "id": "88bc8a27",
   "metadata": {
    "_cell_guid": "b1076dfc-b9ad-4769-8c92-a6c4dae69d19",
    "_uuid": "8f2839f25d086af736a60e9eeb907d3b93b6e0e5",
    "execution": {
     "iopub.execute_input": "2022-11-11T09:08:51.805191Z",
     "iopub.status.busy": "2022-11-11T09:08:51.804447Z",
     "iopub.status.idle": "2022-11-11T09:08:53.039047Z",
     "shell.execute_reply": "2022-11-11T09:08:53.037532Z"
    },
    "papermill": {
     "duration": 1.248475,
     "end_time": "2022-11-11T09:08:53.042032",
     "exception": false,
     "start_time": "2022-11-11T09:08:51.793557",
     "status": "completed"
    },
    "tags": []
   },
   "outputs": [],
   "source": [
    "import pandas as pd\n",
    "from sklearn.datasets import load_iris\n",
    "iris = load_iris()"
   ]
  },
  {
   "cell_type": "code",
   "execution_count": 2,
   "id": "61d1c3b6",
   "metadata": {
    "execution": {
     "iopub.execute_input": "2022-11-11T09:08:53.055758Z",
     "iopub.status.busy": "2022-11-11T09:08:53.055301Z",
     "iopub.status.idle": "2022-11-11T09:08:53.065067Z",
     "shell.execute_reply": "2022-11-11T09:08:53.063871Z"
    },
    "papermill": {
     "duration": 0.020331,
     "end_time": "2022-11-11T09:08:53.068590",
     "exception": false,
     "start_time": "2022-11-11T09:08:53.048259",
     "status": "completed"
    },
    "tags": []
   },
   "outputs": [
    {
     "data": {
      "text/plain": [
       "['DESCR',\n",
       " 'data',\n",
       " 'data_module',\n",
       " 'feature_names',\n",
       " 'filename',\n",
       " 'frame',\n",
       " 'target',\n",
       " 'target_names']"
      ]
     },
     "execution_count": 2,
     "metadata": {},
     "output_type": "execute_result"
    }
   ],
   "source": [
    "dir(iris)"
   ]
  },
  {
   "cell_type": "code",
   "execution_count": 3,
   "id": "4bc73fe8",
   "metadata": {
    "execution": {
     "iopub.execute_input": "2022-11-11T09:08:53.082229Z",
     "iopub.status.busy": "2022-11-11T09:08:53.081571Z",
     "iopub.status.idle": "2022-11-11T09:08:53.088432Z",
     "shell.execute_reply": "2022-11-11T09:08:53.087419Z"
    },
    "papermill": {
     "duration": 0.016212,
     "end_time": "2022-11-11T09:08:53.090623",
     "exception": false,
     "start_time": "2022-11-11T09:08:53.074411",
     "status": "completed"
    },
    "tags": []
   },
   "outputs": [
    {
     "data": {
      "text/plain": [
       "['sepal length (cm)',\n",
       " 'sepal width (cm)',\n",
       " 'petal length (cm)',\n",
       " 'petal width (cm)']"
      ]
     },
     "execution_count": 3,
     "metadata": {},
     "output_type": "execute_result"
    }
   ],
   "source": [
    "iris.feature_names"
   ]
  },
  {
   "cell_type": "code",
   "execution_count": 4,
   "id": "be9c2e99",
   "metadata": {
    "execution": {
     "iopub.execute_input": "2022-11-11T09:08:53.104156Z",
     "iopub.status.busy": "2022-11-11T09:08:53.103642Z",
     "iopub.status.idle": "2022-11-11T09:08:53.132724Z",
     "shell.execute_reply": "2022-11-11T09:08:53.131401Z"
    },
    "papermill": {
     "duration": 0.038869,
     "end_time": "2022-11-11T09:08:53.135155",
     "exception": false,
     "start_time": "2022-11-11T09:08:53.096286",
     "status": "completed"
    },
    "tags": []
   },
   "outputs": [
    {
     "data": {
      "text/html": [
       "<div>\n",
       "<style scoped>\n",
       "    .dataframe tbody tr th:only-of-type {\n",
       "        vertical-align: middle;\n",
       "    }\n",
       "\n",
       "    .dataframe tbody tr th {\n",
       "        vertical-align: top;\n",
       "    }\n",
       "\n",
       "    .dataframe thead th {\n",
       "        text-align: right;\n",
       "    }\n",
       "</style>\n",
       "<table border=\"1\" class=\"dataframe\">\n",
       "  <thead>\n",
       "    <tr style=\"text-align: right;\">\n",
       "      <th></th>\n",
       "      <th>sepal length (cm)</th>\n",
       "      <th>sepal width (cm)</th>\n",
       "      <th>petal length (cm)</th>\n",
       "      <th>petal width (cm)</th>\n",
       "    </tr>\n",
       "  </thead>\n",
       "  <tbody>\n",
       "    <tr>\n",
       "      <th>0</th>\n",
       "      <td>5.1</td>\n",
       "      <td>3.5</td>\n",
       "      <td>1.4</td>\n",
       "      <td>0.2</td>\n",
       "    </tr>\n",
       "    <tr>\n",
       "      <th>1</th>\n",
       "      <td>4.9</td>\n",
       "      <td>3.0</td>\n",
       "      <td>1.4</td>\n",
       "      <td>0.2</td>\n",
       "    </tr>\n",
       "    <tr>\n",
       "      <th>2</th>\n",
       "      <td>4.7</td>\n",
       "      <td>3.2</td>\n",
       "      <td>1.3</td>\n",
       "      <td>0.2</td>\n",
       "    </tr>\n",
       "    <tr>\n",
       "      <th>3</th>\n",
       "      <td>4.6</td>\n",
       "      <td>3.1</td>\n",
       "      <td>1.5</td>\n",
       "      <td>0.2</td>\n",
       "    </tr>\n",
       "    <tr>\n",
       "      <th>4</th>\n",
       "      <td>5.0</td>\n",
       "      <td>3.6</td>\n",
       "      <td>1.4</td>\n",
       "      <td>0.2</td>\n",
       "    </tr>\n",
       "    <tr>\n",
       "      <th>...</th>\n",
       "      <td>...</td>\n",
       "      <td>...</td>\n",
       "      <td>...</td>\n",
       "      <td>...</td>\n",
       "    </tr>\n",
       "    <tr>\n",
       "      <th>145</th>\n",
       "      <td>6.7</td>\n",
       "      <td>3.0</td>\n",
       "      <td>5.2</td>\n",
       "      <td>2.3</td>\n",
       "    </tr>\n",
       "    <tr>\n",
       "      <th>146</th>\n",
       "      <td>6.3</td>\n",
       "      <td>2.5</td>\n",
       "      <td>5.0</td>\n",
       "      <td>1.9</td>\n",
       "    </tr>\n",
       "    <tr>\n",
       "      <th>147</th>\n",
       "      <td>6.5</td>\n",
       "      <td>3.0</td>\n",
       "      <td>5.2</td>\n",
       "      <td>2.0</td>\n",
       "    </tr>\n",
       "    <tr>\n",
       "      <th>148</th>\n",
       "      <td>6.2</td>\n",
       "      <td>3.4</td>\n",
       "      <td>5.4</td>\n",
       "      <td>2.3</td>\n",
       "    </tr>\n",
       "    <tr>\n",
       "      <th>149</th>\n",
       "      <td>5.9</td>\n",
       "      <td>3.0</td>\n",
       "      <td>5.1</td>\n",
       "      <td>1.8</td>\n",
       "    </tr>\n",
       "  </tbody>\n",
       "</table>\n",
       "<p>150 rows × 4 columns</p>\n",
       "</div>"
      ],
      "text/plain": [
       "     sepal length (cm)  sepal width (cm)  petal length (cm)  petal width (cm)\n",
       "0                  5.1               3.5                1.4               0.2\n",
       "1                  4.9               3.0                1.4               0.2\n",
       "2                  4.7               3.2                1.3               0.2\n",
       "3                  4.6               3.1                1.5               0.2\n",
       "4                  5.0               3.6                1.4               0.2\n",
       "..                 ...               ...                ...               ...\n",
       "145                6.7               3.0                5.2               2.3\n",
       "146                6.3               2.5                5.0               1.9\n",
       "147                6.5               3.0                5.2               2.0\n",
       "148                6.2               3.4                5.4               2.3\n",
       "149                5.9               3.0                5.1               1.8\n",
       "\n",
       "[150 rows x 4 columns]"
      ]
     },
     "execution_count": 4,
     "metadata": {},
     "output_type": "execute_result"
    }
   ],
   "source": [
    "df=pd.DataFrame(iris.data, columns=iris.feature_names)\n",
    "df"
   ]
  },
  {
   "cell_type": "code",
   "execution_count": 5,
   "id": "3241b267",
   "metadata": {
    "execution": {
     "iopub.execute_input": "2022-11-11T09:08:53.148606Z",
     "iopub.status.busy": "2022-11-11T09:08:53.148211Z",
     "iopub.status.idle": "2022-11-11T09:08:53.167784Z",
     "shell.execute_reply": "2022-11-11T09:08:53.166640Z"
    },
    "papermill": {
     "duration": 0.028852,
     "end_time": "2022-11-11T09:08:53.170062",
     "exception": false,
     "start_time": "2022-11-11T09:08:53.141210",
     "status": "completed"
    },
    "tags": []
   },
   "outputs": [
    {
     "data": {
      "text/html": [
       "<div>\n",
       "<style scoped>\n",
       "    .dataframe tbody tr th:only-of-type {\n",
       "        vertical-align: middle;\n",
       "    }\n",
       "\n",
       "    .dataframe tbody tr th {\n",
       "        vertical-align: top;\n",
       "    }\n",
       "\n",
       "    .dataframe thead th {\n",
       "        text-align: right;\n",
       "    }\n",
       "</style>\n",
       "<table border=\"1\" class=\"dataframe\">\n",
       "  <thead>\n",
       "    <tr style=\"text-align: right;\">\n",
       "      <th></th>\n",
       "      <th>sepal length (cm)</th>\n",
       "      <th>sepal width (cm)</th>\n",
       "      <th>petal length (cm)</th>\n",
       "      <th>petal width (cm)</th>\n",
       "      <th>target</th>\n",
       "    </tr>\n",
       "  </thead>\n",
       "  <tbody>\n",
       "    <tr>\n",
       "      <th>0</th>\n",
       "      <td>5.1</td>\n",
       "      <td>3.5</td>\n",
       "      <td>1.4</td>\n",
       "      <td>0.2</td>\n",
       "      <td>0</td>\n",
       "    </tr>\n",
       "    <tr>\n",
       "      <th>1</th>\n",
       "      <td>4.9</td>\n",
       "      <td>3.0</td>\n",
       "      <td>1.4</td>\n",
       "      <td>0.2</td>\n",
       "      <td>0</td>\n",
       "    </tr>\n",
       "    <tr>\n",
       "      <th>2</th>\n",
       "      <td>4.7</td>\n",
       "      <td>3.2</td>\n",
       "      <td>1.3</td>\n",
       "      <td>0.2</td>\n",
       "      <td>0</td>\n",
       "    </tr>\n",
       "    <tr>\n",
       "      <th>3</th>\n",
       "      <td>4.6</td>\n",
       "      <td>3.1</td>\n",
       "      <td>1.5</td>\n",
       "      <td>0.2</td>\n",
       "      <td>0</td>\n",
       "    </tr>\n",
       "    <tr>\n",
       "      <th>4</th>\n",
       "      <td>5.0</td>\n",
       "      <td>3.6</td>\n",
       "      <td>1.4</td>\n",
       "      <td>0.2</td>\n",
       "      <td>0</td>\n",
       "    </tr>\n",
       "  </tbody>\n",
       "</table>\n",
       "</div>"
      ],
      "text/plain": [
       "   sepal length (cm)  sepal width (cm)  petal length (cm)  petal width (cm)  \\\n",
       "0                5.1               3.5                1.4               0.2   \n",
       "1                4.9               3.0                1.4               0.2   \n",
       "2                4.7               3.2                1.3               0.2   \n",
       "3                4.6               3.1                1.5               0.2   \n",
       "4                5.0               3.6                1.4               0.2   \n",
       "\n",
       "   target  \n",
       "0       0  \n",
       "1       0  \n",
       "2       0  \n",
       "3       0  \n",
       "4       0  "
      ]
     },
     "execution_count": 5,
     "metadata": {},
     "output_type": "execute_result"
    }
   ],
   "source": [
    "df['target']=iris.target\n",
    "df.head()"
   ]
  },
  {
   "cell_type": "code",
   "execution_count": 6,
   "id": "c3e08b8f",
   "metadata": {
    "execution": {
     "iopub.execute_input": "2022-11-11T09:08:53.185280Z",
     "iopub.status.busy": "2022-11-11T09:08:53.183874Z",
     "iopub.status.idle": "2022-11-11T09:08:53.192081Z",
     "shell.execute_reply": "2022-11-11T09:08:53.190913Z"
    },
    "papermill": {
     "duration": 0.01809,
     "end_time": "2022-11-11T09:08:53.194383",
     "exception": false,
     "start_time": "2022-11-11T09:08:53.176293",
     "status": "completed"
    },
    "tags": []
   },
   "outputs": [
    {
     "data": {
      "text/plain": [
       "array(['setosa', 'versicolor', 'virginica'], dtype='<U10')"
      ]
     },
     "execution_count": 6,
     "metadata": {},
     "output_type": "execute_result"
    }
   ],
   "source": [
    "iris.target_names"
   ]
  },
  {
   "cell_type": "code",
   "execution_count": 7,
   "id": "4edd03d1",
   "metadata": {
    "execution": {
     "iopub.execute_input": "2022-11-11T09:08:53.209522Z",
     "iopub.status.busy": "2022-11-11T09:08:53.208094Z",
     "iopub.status.idle": "2022-11-11T09:08:53.227566Z",
     "shell.execute_reply": "2022-11-11T09:08:53.226314Z"
    },
    "papermill": {
     "duration": 0.029705,
     "end_time": "2022-11-11T09:08:53.230181",
     "exception": false,
     "start_time": "2022-11-11T09:08:53.200476",
     "status": "completed"
    },
    "tags": []
   },
   "outputs": [
    {
     "data": {
      "text/html": [
       "<div>\n",
       "<style scoped>\n",
       "    .dataframe tbody tr th:only-of-type {\n",
       "        vertical-align: middle;\n",
       "    }\n",
       "\n",
       "    .dataframe tbody tr th {\n",
       "        vertical-align: top;\n",
       "    }\n",
       "\n",
       "    .dataframe thead th {\n",
       "        text-align: right;\n",
       "    }\n",
       "</style>\n",
       "<table border=\"1\" class=\"dataframe\">\n",
       "  <thead>\n",
       "    <tr style=\"text-align: right;\">\n",
       "      <th></th>\n",
       "      <th>sepal length (cm)</th>\n",
       "      <th>sepal width (cm)</th>\n",
       "      <th>petal length (cm)</th>\n",
       "      <th>petal width (cm)</th>\n",
       "      <th>target</th>\n",
       "    </tr>\n",
       "  </thead>\n",
       "  <tbody>\n",
       "    <tr>\n",
       "      <th>50</th>\n",
       "      <td>7.0</td>\n",
       "      <td>3.2</td>\n",
       "      <td>4.7</td>\n",
       "      <td>1.4</td>\n",
       "      <td>1</td>\n",
       "    </tr>\n",
       "    <tr>\n",
       "      <th>51</th>\n",
       "      <td>6.4</td>\n",
       "      <td>3.2</td>\n",
       "      <td>4.5</td>\n",
       "      <td>1.5</td>\n",
       "      <td>1</td>\n",
       "    </tr>\n",
       "    <tr>\n",
       "      <th>52</th>\n",
       "      <td>6.9</td>\n",
       "      <td>3.1</td>\n",
       "      <td>4.9</td>\n",
       "      <td>1.5</td>\n",
       "      <td>1</td>\n",
       "    </tr>\n",
       "    <tr>\n",
       "      <th>53</th>\n",
       "      <td>5.5</td>\n",
       "      <td>2.3</td>\n",
       "      <td>4.0</td>\n",
       "      <td>1.3</td>\n",
       "      <td>1</td>\n",
       "    </tr>\n",
       "    <tr>\n",
       "      <th>54</th>\n",
       "      <td>6.5</td>\n",
       "      <td>2.8</td>\n",
       "      <td>4.6</td>\n",
       "      <td>1.5</td>\n",
       "      <td>1</td>\n",
       "    </tr>\n",
       "  </tbody>\n",
       "</table>\n",
       "</div>"
      ],
      "text/plain": [
       "    sepal length (cm)  sepal width (cm)  petal length (cm)  petal width (cm)  \\\n",
       "50                7.0               3.2                4.7               1.4   \n",
       "51                6.4               3.2                4.5               1.5   \n",
       "52                6.9               3.1                4.9               1.5   \n",
       "53                5.5               2.3                4.0               1.3   \n",
       "54                6.5               2.8                4.6               1.5   \n",
       "\n",
       "    target  \n",
       "50       1  \n",
       "51       1  \n",
       "52       1  \n",
       "53       1  \n",
       "54       1  "
      ]
     },
     "execution_count": 7,
     "metadata": {},
     "output_type": "execute_result"
    }
   ],
   "source": [
    "df[df.target==1].head()"
   ]
  },
  {
   "cell_type": "code",
   "execution_count": 8,
   "id": "483dfc8c",
   "metadata": {
    "execution": {
     "iopub.execute_input": "2022-11-11T09:08:53.245481Z",
     "iopub.status.busy": "2022-11-11T09:08:53.244314Z",
     "iopub.status.idle": "2022-11-11T09:08:53.264467Z",
     "shell.execute_reply": "2022-11-11T09:08:53.263091Z"
    },
    "papermill": {
     "duration": 0.030724,
     "end_time": "2022-11-11T09:08:53.267354",
     "exception": false,
     "start_time": "2022-11-11T09:08:53.236630",
     "status": "completed"
    },
    "tags": []
   },
   "outputs": [
    {
     "data": {
      "text/html": [
       "<div>\n",
       "<style scoped>\n",
       "    .dataframe tbody tr th:only-of-type {\n",
       "        vertical-align: middle;\n",
       "    }\n",
       "\n",
       "    .dataframe tbody tr th {\n",
       "        vertical-align: top;\n",
       "    }\n",
       "\n",
       "    .dataframe thead th {\n",
       "        text-align: right;\n",
       "    }\n",
       "</style>\n",
       "<table border=\"1\" class=\"dataframe\">\n",
       "  <thead>\n",
       "    <tr style=\"text-align: right;\">\n",
       "      <th></th>\n",
       "      <th>sepal length (cm)</th>\n",
       "      <th>sepal width (cm)</th>\n",
       "      <th>petal length (cm)</th>\n",
       "      <th>petal width (cm)</th>\n",
       "      <th>target</th>\n",
       "      <th>flower_name</th>\n",
       "    </tr>\n",
       "  </thead>\n",
       "  <tbody>\n",
       "    <tr>\n",
       "      <th>0</th>\n",
       "      <td>5.1</td>\n",
       "      <td>3.5</td>\n",
       "      <td>1.4</td>\n",
       "      <td>0.2</td>\n",
       "      <td>0</td>\n",
       "      <td>setosa</td>\n",
       "    </tr>\n",
       "    <tr>\n",
       "      <th>1</th>\n",
       "      <td>4.9</td>\n",
       "      <td>3.0</td>\n",
       "      <td>1.4</td>\n",
       "      <td>0.2</td>\n",
       "      <td>0</td>\n",
       "      <td>setosa</td>\n",
       "    </tr>\n",
       "    <tr>\n",
       "      <th>2</th>\n",
       "      <td>4.7</td>\n",
       "      <td>3.2</td>\n",
       "      <td>1.3</td>\n",
       "      <td>0.2</td>\n",
       "      <td>0</td>\n",
       "      <td>setosa</td>\n",
       "    </tr>\n",
       "    <tr>\n",
       "      <th>3</th>\n",
       "      <td>4.6</td>\n",
       "      <td>3.1</td>\n",
       "      <td>1.5</td>\n",
       "      <td>0.2</td>\n",
       "      <td>0</td>\n",
       "      <td>setosa</td>\n",
       "    </tr>\n",
       "    <tr>\n",
       "      <th>4</th>\n",
       "      <td>5.0</td>\n",
       "      <td>3.6</td>\n",
       "      <td>1.4</td>\n",
       "      <td>0.2</td>\n",
       "      <td>0</td>\n",
       "      <td>setosa</td>\n",
       "    </tr>\n",
       "  </tbody>\n",
       "</table>\n",
       "</div>"
      ],
      "text/plain": [
       "   sepal length (cm)  sepal width (cm)  petal length (cm)  petal width (cm)  \\\n",
       "0                5.1               3.5                1.4               0.2   \n",
       "1                4.9               3.0                1.4               0.2   \n",
       "2                4.7               3.2                1.3               0.2   \n",
       "3                4.6               3.1                1.5               0.2   \n",
       "4                5.0               3.6                1.4               0.2   \n",
       "\n",
       "   target flower_name  \n",
       "0       0      setosa  \n",
       "1       0      setosa  \n",
       "2       0      setosa  \n",
       "3       0      setosa  \n",
       "4       0      setosa  "
      ]
     },
     "execution_count": 8,
     "metadata": {},
     "output_type": "execute_result"
    }
   ],
   "source": [
    "df['flower_name']=df.target.apply(lambda x: iris.target_names[x])\n",
    "df.head()"
   ]
  },
  {
   "cell_type": "code",
   "execution_count": 9,
   "id": "ac130629",
   "metadata": {
    "execution": {
     "iopub.execute_input": "2022-11-11T09:08:53.284174Z",
     "iopub.status.busy": "2022-11-11T09:08:53.283743Z",
     "iopub.status.idle": "2022-11-11T09:08:53.290852Z",
     "shell.execute_reply": "2022-11-11T09:08:53.289750Z"
    },
    "papermill": {
     "duration": 0.017496,
     "end_time": "2022-11-11T09:08:53.293163",
     "exception": false,
     "start_time": "2022-11-11T09:08:53.275667",
     "status": "completed"
    },
    "tags": []
   },
   "outputs": [],
   "source": [
    "import matplotlib.pyplot as plt\n",
    "%matplotlib inline"
   ]
  },
  {
   "cell_type": "code",
   "execution_count": 10,
   "id": "ac47ff7c",
   "metadata": {
    "execution": {
     "iopub.execute_input": "2022-11-11T09:08:53.308382Z",
     "iopub.status.busy": "2022-11-11T09:08:53.307979Z",
     "iopub.status.idle": "2022-11-11T09:08:53.315480Z",
     "shell.execute_reply": "2022-11-11T09:08:53.314191Z"
    },
    "papermill": {
     "duration": 0.018355,
     "end_time": "2022-11-11T09:08:53.318107",
     "exception": false,
     "start_time": "2022-11-11T09:08:53.299752",
     "status": "completed"
    },
    "tags": []
   },
   "outputs": [],
   "source": [
    "df0 = df[df.target==0]\n",
    "df1 = df[df.target==1]\n",
    "df2 = df[df.target==2]"
   ]
  },
  {
   "cell_type": "code",
   "execution_count": 11,
   "id": "327d5857",
   "metadata": {
    "execution": {
     "iopub.execute_input": "2022-11-11T09:08:53.333279Z",
     "iopub.status.busy": "2022-11-11T09:08:53.332889Z",
     "iopub.status.idle": "2022-11-11T09:08:53.652053Z",
     "shell.execute_reply": "2022-11-11T09:08:53.650644Z"
    },
    "papermill": {
     "duration": 0.330253,
     "end_time": "2022-11-11T09:08:53.655052",
     "exception": false,
     "start_time": "2022-11-11T09:08:53.324799",
     "status": "completed"
    },
    "tags": []
   },
   "outputs": [
    {
     "data": {
      "text/plain": [
       "Text(0.5, 1.0, 'Info')"
      ]
     },
     "execution_count": 11,
     "metadata": {},
     "output_type": "execute_result"
    },
    {
     "data": {
      "image/png": "[encoded data removed]",
      "text/plain": [
       "<Figure size 432x288 with 1 Axes>"
      ]
     },
     "metadata": {
      "needs_background": "light"
     },
     "output_type": "display_data"
    }
   ],
   "source": [
    "plt.scatter(df0['sepal length (cm)'],df0['sepal width (cm)'], color ='g', marker='+')\n",
    "plt.scatter(df1['sepal length (cm)'],df1['sepal width (cm)'], color ='b', marker='+')\n",
    "plt.scatter(df2['sepal length (cm)'],df2['sepal width (cm)'], color ='r', marker='+')\n",
    "plt.xlabel('sepal length (cm)')\n",
    "plt.ylabel('sepal width (cm)')\n",
    "plt.title('Info')"
   ]
  },
  {
   "cell_type": "code",
   "execution_count": 12,
   "id": "b81ca91b",
   "metadata": {
    "execution": {
     "iopub.execute_input": "2022-11-11T09:08:53.671590Z",
     "iopub.status.busy": "2022-11-11T09:08:53.671147Z",
     "iopub.status.idle": "2022-11-11T09:08:53.910334Z",
     "shell.execute_reply": "2022-11-11T09:08:53.909141Z"
    },
    "papermill": {
     "duration": 0.250655,
     "end_time": "2022-11-11T09:08:53.912958",
     "exception": false,
     "start_time": "2022-11-11T09:08:53.662303",
     "status": "completed"
    },
    "tags": []
   },
   "outputs": [
    {
     "data": {
      "text/plain": [
       "Text(0.5, 1.0, 'Info')"
      ]
     },
     "execution_count": 12,
     "metadata": {},
     "output_type": "execute_result"
    },
    {
     "data": {
      "image/png": "[encoded data removed]",
      "text/plain": [
       "<Figure size 432x288 with 1 Axes>"
      ]
     },
     "metadata": {
      "needs_background": "light"
     },
     "output_type": "display_data"
    }
   ],
   "source": [
    "plt.scatter(df0['petal length (cm)'],df0['petal width (cm)'], color ='g', marker='+')\n",
    "plt.scatter(df1['petal length (cm)'],df1['petal width (cm)'], color ='b', marker='+')\n",
    "plt.scatter(df2['petal length (cm)'],df2['petal width (cm)'], color ='r', marker='+')\n",
    "plt.xlabel('petal length (cm)')\n",
    "plt.ylabel('petal width (cm)')\n",
    "plt.title('Info')"
   ]
  },
  {
   "cell_type": "code",
   "execution_count": 13,
   "id": "3e2dfb40",
   "metadata": {
    "execution": {
     "iopub.execute_input": "2022-11-11T09:08:53.929787Z",
     "iopub.status.busy": "2022-11-11T09:08:53.929400Z",
     "iopub.status.idle": "2022-11-11T09:08:53.990368Z",
     "shell.execute_reply": "2022-11-11T09:08:53.989155Z"
    },
    "papermill": {
     "duration": 0.072963,
     "end_time": "2022-11-11T09:08:53.993279",
     "exception": false,
     "start_time": "2022-11-11T09:08:53.920316",
     "status": "completed"
    },
    "tags": []
   },
   "outputs": [],
   "source": [
    "from sklearn.model_selection import train_test_split"
   ]
  },
  {
   "cell_type": "code",
   "execution_count": 14,
   "id": "35765967",
   "metadata": {
    "execution": {
     "iopub.execute_input": "2022-11-11T09:08:54.010966Z",
     "iopub.status.busy": "2022-11-11T09:08:54.009756Z",
     "iopub.status.idle": "2022-11-11T09:08:54.026570Z",
     "shell.execute_reply": "2022-11-11T09:08:54.025322Z"
    },
    "papermill": {
     "duration": 0.028467,
     "end_time": "2022-11-11T09:08:54.029183",
     "exception": false,
     "start_time": "2022-11-11T09:08:54.000716",
     "status": "completed"
    },
    "tags": []
   },
   "outputs": [
    {
     "data": {
      "text/html": [
       "<div>\n",
       "<style scoped>\n",
       "    .dataframe tbody tr th:only-of-type {\n",
       "        vertical-align: middle;\n",
       "    }\n",
       "\n",
       "    .dataframe tbody tr th {\n",
       "        vertical-align: top;\n",
       "    }\n",
       "\n",
       "    .dataframe thead th {\n",
       "        text-align: right;\n",
       "    }\n",
       "</style>\n",
       "<table border=\"1\" class=\"dataframe\">\n",
       "  <thead>\n",
       "    <tr style=\"text-align: right;\">\n",
       "      <th></th>\n",
       "      <th>sepal length (cm)</th>\n",
       "      <th>sepal width (cm)</th>\n",
       "      <th>petal length (cm)</th>\n",
       "      <th>petal width (cm)</th>\n",
       "    </tr>\n",
       "  </thead>\n",
       "  <tbody>\n",
       "    <tr>\n",
       "      <th>0</th>\n",
       "      <td>5.1</td>\n",
       "      <td>3.5</td>\n",
       "      <td>1.4</td>\n",
       "      <td>0.2</td>\n",
       "    </tr>\n",
       "    <tr>\n",
       "      <th>1</th>\n",
       "      <td>4.9</td>\n",
       "      <td>3.0</td>\n",
       "      <td>1.4</td>\n",
       "      <td>0.2</td>\n",
       "    </tr>\n",
       "    <tr>\n",
       "      <th>2</th>\n",
       "      <td>4.7</td>\n",
       "      <td>3.2</td>\n",
       "      <td>1.3</td>\n",
       "      <td>0.2</td>\n",
       "    </tr>\n",
       "    <tr>\n",
       "      <th>3</th>\n",
       "      <td>4.6</td>\n",
       "      <td>3.1</td>\n",
       "      <td>1.5</td>\n",
       "      <td>0.2</td>\n",
       "    </tr>\n",
       "    <tr>\n",
       "      <th>4</th>\n",
       "      <td>5.0</td>\n",
       "      <td>3.6</td>\n",
       "      <td>1.4</td>\n",
       "      <td>0.2</td>\n",
       "    </tr>\n",
       "  </tbody>\n",
       "</table>\n",
       "</div>"
      ],
      "text/plain": [
       "   sepal length (cm)  sepal width (cm)  petal length (cm)  petal width (cm)\n",
       "0                5.1               3.5                1.4               0.2\n",
       "1                4.9               3.0                1.4               0.2\n",
       "2                4.7               3.2                1.3               0.2\n",
       "3                4.6               3.1                1.5               0.2\n",
       "4                5.0               3.6                1.4               0.2"
      ]
     },
     "execution_count": 14,
     "metadata": {},
     "output_type": "execute_result"
    }
   ],
   "source": [
    "x = df.drop(['target','flower_name'],axis=1)\n",
    "x.head()"
   ]
  },
  {
   "cell_type": "code",
   "execution_count": 15,
   "id": "35ffcea6",
   "metadata": {
    "execution": {
     "iopub.execute_input": "2022-11-11T09:08:54.046529Z",
     "iopub.status.busy": "2022-11-11T09:08:54.046076Z",
     "iopub.status.idle": "2022-11-11T09:08:54.054543Z",
     "shell.execute_reply": "2022-11-11T09:08:54.053249Z"
    },
    "papermill": {
     "duration": 0.020512,
     "end_time": "2022-11-11T09:08:54.057479",
     "exception": false,
     "start_time": "2022-11-11T09:08:54.036967",
     "status": "completed"
    },
    "tags": []
   },
   "outputs": [
    {
     "data": {
      "text/plain": [
       "0    0\n",
       "1    0\n",
       "2    0\n",
       "3    0\n",
       "4    0\n",
       "Name: target, dtype: int64"
      ]
     },
     "execution_count": 15,
     "metadata": {},
     "output_type": "execute_result"
    }
   ],
   "source": [
    "y = df.target\n",
    "y.head()"
   ]
  },
  {
   "cell_type": "code",
   "execution_count": 16,
   "id": "2ad22289",
   "metadata": {
    "execution": {
     "iopub.execute_input": "2022-11-11T09:08:54.075107Z",
     "iopub.status.busy": "2022-11-11T09:08:54.074417Z",
     "iopub.status.idle": "2022-11-11T09:08:54.081546Z",
     "shell.execute_reply": "2022-11-11T09:08:54.080246Z"
    },
    "papermill": {
     "duration": 0.019014,
     "end_time": "2022-11-11T09:08:54.084225",
     "exception": false,
     "start_time": "2022-11-11T09:08:54.065211",
     "status": "completed"
    },
    "tags": []
   },
   "outputs": [],
   "source": [
    "x_train,x_test,y_train,y_test = train_test_split(x,y, test_size=0.2, random_state=100)"
   ]
  },
  {
   "cell_type": "code",
   "execution_count": 17,
   "id": "bbbf91fd",
   "metadata": {
    "execution": {
     "iopub.execute_input": "2022-11-11T09:08:54.102123Z",
     "iopub.status.busy": "2022-11-11T09:08:54.101683Z",
     "iopub.status.idle": "2022-11-11T09:08:54.108500Z",
     "shell.execute_reply": "2022-11-11T09:08:54.107350Z"
    },
    "papermill": {
     "duration": 0.019263,
     "end_time": "2022-11-11T09:08:54.111490",
     "exception": false,
     "start_time": "2022-11-11T09:08:54.092227",
     "status": "completed"
    },
    "tags": []
   },
   "outputs": [
    {
     "name": "stdout",
     "output_type": "stream",
     "text": [
      "(120, 4)\n",
      "(120,)\n",
      "(30, 4)\n",
      "(30,)\n"
     ]
    }
   ],
   "source": [
    "print(x_train.shape)\n",
    "print(y_train.shape)\n",
    "print(x_test.shape)\n",
    "print(y_test.shape)"
   ]
  },
  {
   "cell_type": "code",
   "execution_count": 18,
   "id": "1a5d5b16",
   "metadata": {
    "execution": {
     "iopub.execute_input": "2022-11-11T09:08:54.130472Z",
     "iopub.status.busy": "2022-11-11T09:08:54.130073Z",
     "iopub.status.idle": "2022-11-11T09:08:54.215171Z",
     "shell.execute_reply": "2022-11-11T09:08:54.213950Z"
    },
    "papermill": {
     "duration": 0.098297,
     "end_time": "2022-11-11T09:08:54.217951",
     "exception": false,
     "start_time": "2022-11-11T09:08:54.119654",
     "status": "completed"
    },
    "tags": []
   },
   "outputs": [],
   "source": [
    "from sklearn.svm import SVC\n",
    "model = SVC()"
   ]
  },
  {
   "cell_type": "code",
   "execution_count": 19,
   "id": "1a4d44f1",
   "metadata": {
    "execution": {
     "iopub.execute_input": "2022-11-11T09:08:54.235811Z",
     "iopub.status.busy": "2022-11-11T09:08:54.235371Z",
     "iopub.status.idle": "2022-11-11T09:08:54.249150Z",
     "shell.execute_reply": "2022-11-11T09:08:54.247898Z"
    },
    "papermill": {
     "duration": 0.025426,
     "end_time": "2022-11-11T09:08:54.251621",
     "exception": false,
     "start_time": "2022-11-11T09:08:54.226195",
     "status": "completed"
    },
    "tags": []
   },
   "outputs": [
    {
     "data": {
      "text/plain": [
       "SVC()"
      ]
     },
     "execution_count": 19,
     "metadata": {},
     "output_type": "execute_result"
    }
   ],
   "source": [
    "model.fit(x_train,y_train)"
   ]
  },
  {
   "cell_type": "code",
   "execution_count": 20,
   "id": "4f6a2dec",
   "metadata": {
    "execution": {
     "iopub.execute_input": "2022-11-11T09:08:54.269729Z",
     "iopub.status.busy": "2022-11-11T09:08:54.269289Z",
     "iopub.status.idle": "2022-11-11T09:08:54.280019Z",
     "shell.execute_reply": "2022-11-11T09:08:54.278779Z"
    },
    "papermill": {
     "duration": 0.023129,
     "end_time": "2022-11-11T09:08:54.282744",
     "exception": false,
     "start_time": "2022-11-11T09:08:54.259615",
     "status": "completed"
    },
    "tags": []
   },
   "outputs": [
    {
     "data": {
      "text/plain": [
       "1.0"
      ]
     },
     "execution_count": 20,
     "metadata": {},
     "output_type": "execute_result"
    }
   ],
   "source": [
    "model.score(x_test,y_test)"
   ]
  }
 ],
 "metadata": {
  "kernelspec": {
   "display_name": "Python 3",
   "language": "python",
   "name": "python3"
  },
  "language_info": {
   "codemirror_mode": {
    "name": "ipython",
    "version": 3
   },
   "file_extension": ".py",
   "mimetype": "text/x-python",
   "name": "python",
   "nbconvert_exporter": "python",
   "pygments_lexer": "ipython3",
   "version": "3.7.12"
  },
  "papermill": {
   "default_parameters": {},
   "duration": 12.700864,
   "end_time": "2022-11-11T09:08:55.113235",
   "environment_variables": {},
   "exception": null,
   "input_path": "__notebook__.ipynb",
   "output_path": "__notebook__.ipynb",
   "parameters": {},
   "start_time": "2022-11-11T09:08:42.412371",
   "version": "2.3.4"
  }
 },
 "nbformat": 4,
 "nbformat_minor": 5
}
